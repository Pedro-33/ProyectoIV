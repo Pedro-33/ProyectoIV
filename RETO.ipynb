    "- FECHA_INICIO: Fecha en que se inició la solicitud; se transformó en las variables ANIO_INICIO y MES_INICIO para capturar estacionalidad.\n",
    "print(f'Tamaño original: {data.shape}')\n",
    "data.drop_duplicates(inplace=True)\n",
    "print(f'Tamaño sin duplicados: {data.shape}')\n",
    "data['FECHA_INICIO'] = pd.to_datetime(data['FECHA_INICIO'], errors='coerce')\n",
    "data['ANIO_INICIO'] = data['FECHA_INICIO'].dt.year\n",
    "data['MES_INICIO'] = data['FECHA_INICIO'].dt.month\n",
    "data.drop(columns=['FECHA_INICIO'], inplace=True)\n",
    "data\n"
  {
   "cell_type": "code",
   "execution_count": null,
   "metadata": {},
   "outputs": [],
   "source": [
    "# Eliminación de valores atípicos mediante método IQR\n",
    "num_cols = data.select_dtypes(include=['int64', 'float64']).columns\n",
    "for col in num_cols:\n",
    "    q1 = data[col].quantile(0.25)\n",
    "    q3 = data[col].quantile(0.75)\n",
    "    iqr = q3 - q1\n",
    "    lim_inf = q1 - 1.5 * iqr\n",
    "    lim_sup = q3 + 1.5 * iqr\n",
    "    data = data[(data[col] >= lim_inf) & (data[col] <= lim_sup)]\n",
    "data.reset_index(drop=True, inplace=True)\n",
    "data.describe().T\n"
   ]
  },
    "data_mod = data.drop(columns = ['SOLICITUD'], axis = 1)  # Eliminamos la variable solicitud, no tiene efecto en el modelo\n",
}